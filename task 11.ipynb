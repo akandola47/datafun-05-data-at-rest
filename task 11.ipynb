{
 "cells": [
  {
   "cell_type": "code",
   "execution_count": 14,
   "metadata": {},
   "outputs": [
    {
     "ename": "ValueError",
     "evalue": "too many values to unpack (expected 3)",
     "output_type": "error",
     "traceback": [
      "\u001b[0;31m---------------------------------------------------------------------------\u001b[0m",
      "\u001b[0;31mValueError\u001b[0m                                Traceback (most recent call last)",
      "\u001b[1;32mUntitled-1.ipynb Cell 1\u001b[0m line \u001b[0;36m1\n\u001b[1;32m     <a href='vscode-notebook-cell:Untitled-1.ipynb?jupyter-notebook#W0sdW50aXRsZWQ%3D?line=11'>12</a>\u001b[0m \u001b[39mwith\u001b[39;00m accounts, temp_file:\n\u001b[1;32m     <a href='vscode-notebook-cell:Untitled-1.ipynb?jupyter-notebook#W0sdW50aXRsZWQ%3D?line=12'>13</a>\u001b[0m     \u001b[39mfor\u001b[39;00m record \u001b[39min\u001b[39;00m accounts:\n\u001b[0;32m---> <a href='vscode-notebook-cell:Untitled-1.ipynb?jupyter-notebook#W0sdW50aXRsZWQ%3D?line=13'>14</a>\u001b[0m         account,name,balance \u001b[39m=\u001b[39m record\u001b[39m.\u001b[39msplit()\n\u001b[1;32m     <a href='vscode-notebook-cell:Untitled-1.ipynb?jupyter-notebook#W0sdW50aXRsZWQ%3D?line=14'>15</a>\u001b[0m         \u001b[39mif\u001b[39;00m account  \u001b[39m!=\u001b[39m \u001b[39m'\u001b[39m\u001b[39m300\u001b[39m\u001b[39m'\u001b[39m:\n\u001b[1;32m     <a href='vscode-notebook-cell:Untitled-1.ipynb?jupyter-notebook#W0sdW50aXRsZWQ%3D?line=15'>16</a>\u001b[0m             temp_file\u001b[39m.\u001b[39mwrite(record)\n",
      "\u001b[0;31mValueError\u001b[0m: too many values to unpack (expected 3)"
     ]
    }
   ],
   "source": [
    "with open('accounts.txt', mode='w') as accounts:\n",
    "    accounts.write('100 Jones 24.98/n')\n",
    "    accounts.write('200 Doe 345.67/n')\n",
    "    accounts.write('300 White 0.00/n')\n",
    "    accounts.write('400 Stone -42.16/n')\n",
    "    accounts.write('500 Rich 224.62/n')\n",
    "\n",
    "accounts = open('accounts.txt','r')\n",
    "\n",
    "temp_file = open('temp_file.txt','w')\n",
    "\n",
    "with accounts, temp_file:\n",
    "    for record in accounts:\n",
    "        account,name,balance = record.split()\n",
    "        if account  != '300':\n",
    "            temp_file.write(record)\n",
    "        else:\n",
    "            new_record= ''. join([account, ' Williams', balance])\n",
    "            temp_file.write(new_record + '/n')\n"
   ]
  },
  {
   "cell_type": "code",
   "execution_count": null,
   "metadata": {},
   "outputs": [],
   "source": []
  }
 ],
 "metadata": {
  "kernelspec": {
   "display_name": "Python 3",
   "language": "python",
   "name": "python3"
  },
  "language_info": {
   "codemirror_mode": {
    "name": "ipython",
    "version": 3
   },
   "file_extension": ".py",
   "mimetype": "text/x-python",
   "name": "python",
   "nbconvert_exporter": "python",
   "pygments_lexer": "ipython3",
   "version": "3.11.5"
  },
  "orig_nbformat": 4
 },
 "nbformat": 4,
 "nbformat_minor": 2
}

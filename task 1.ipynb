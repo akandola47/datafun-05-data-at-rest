{
 "cells": [
  {
   "cell_type": "code",
   "execution_count": 11,
   "metadata": {},
   "outputs": [
    {
     "name": "stdout",
     "output_type": "stream",
     "text": [
      "Account   Name         Balance\n",
      "100       Name         Balance\n",
      "200       Name         Balance\n",
      "300       Name         Balance\n"
     ]
    }
   ],
   "source": [
    "import pandas as pd\n",
    "\n",
    "\n",
    "import csv\n",
    "\n",
    "with open('accounts.csv', mode='w',newline='') as accounts:\n",
    "    writer=csv.writer(accounts)\n",
    "    writer.writerow([100,'Jones', 24.98])\n",
    "    writer.writerow([200,'Doe', 345.67])\n",
    "    writer.writerow([300,'White', 0.00])\n",
    "\n",
    "with open('accounts.csv', 'r',newline='') as accounts:\n",
    "    print(f'{\"Account\":<10}{\"Name\":<10}{\"Balance\":>10}')\n",
    "    reader=csv.reader(accounts)\n",
    "    for record in reader:\n",
    "        account,name,balance= record\n",
    "        print(f'{account:<10}{\"Name\":<10}{\"Balance\":>10}')"
   ]
  },
  {
   "cell_type": "code",
   "execution_count": null,
   "metadata": {},
   "outputs": [],
   "source": []
  }
 ],
 "metadata": {
  "kernelspec": {
   "display_name": "Python (.venv)",
   "language": "python",
   "name": ".venv"
  },
  "language_info": {
   "codemirror_mode": {
    "name": "ipython",
    "version": 3
   },
   "file_extension": ".py",
   "mimetype": "text/x-python",
   "name": "python",
   "nbconvert_exporter": "python",
   "pygments_lexer": "ipython3",
   "version": "3.9.12"
  },
  "orig_nbformat": 4
 },
 "nbformat": 4,
 "nbformat_minor": 2
}
